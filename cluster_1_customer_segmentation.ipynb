{
  "nbformat": 4,
  "nbformat_minor": 0,
  "metadata": {
    "colab": {
      "name": "cluster 1-customer segmentation",
      "provenance": [],
      "collapsed_sections": [],
      "mount_file_id": "1fQ1DmZ6XQ2v2FSjyiiPAXHSMETFh4Pzs",
      "authorship_tag": "ABX9TyMdtUT8TKUQaAdWtb0YfFw9",
      "include_colab_link": true
    },
    "kernelspec": {
      "name": "python3",
      "display_name": "Python 3"
    },
    "language_info": {
      "name": "python"
    }
  },
  "cells": [
    {
      "cell_type": "markdown",
      "metadata": {
        "id": "view-in-github",
        "colab_type": "text"
      },
      "source": [
        "<a href=\"https://colab.research.google.com/github/Lomesh2000/kmeans-clustering----customer-segmentation/blob/Lomesh2000/cluster_1_customer_segmentation.ipynb\" target=\"_parent\"><img src=\"https://colab.research.google.com/assets/colab-badge.svg\" alt=\"Open In Colab\"/></a>"
      ]
    },
    {
      "cell_type": "code",
      "metadata": {
        "id": "qkym44M3mXyb"
      },
      "source": [
        "import pandas as pd\n",
        "import numpy as np\n",
        "import matplotlib.pyplot as plt\n",
        "import seaborn as sns"
      ],
      "execution_count": null,
      "outputs": []
    },
    {
      "cell_type": "code",
      "metadata": {
        "id": "ijLZcbLznLuA"
      },
      "source": [
        "data=pd.read_csv('/content/drive/MyDrive/Colab Notebooks/Mall_Customers.csv')"
      ],
      "execution_count": null,
      "outputs": []
    },
    {
      "cell_type": "code",
      "metadata": {
        "colab": {
          "base_uri": "https://localhost:8080/",
          "height": 206
        },
        "id": "x8RxBe1WnRdR",
        "outputId": "6c381982-28f3-4d6c-dbd6-39c19af4a497"
      },
      "source": [
        "data.head()"
      ],
      "execution_count": null,
      "outputs": [
        {
          "output_type": "execute_result",
          "data": {
            "text/html": [
              "<div>\n",
              "<style scoped>\n",
              "    .dataframe tbody tr th:only-of-type {\n",
              "        vertical-align: middle;\n",
              "    }\n",
              "\n",
              "    .dataframe tbody tr th {\n",
              "        vertical-align: top;\n",
              "    }\n",
              "\n",
              "    .dataframe thead th {\n",
              "        text-align: right;\n",
              "    }\n",
              "</style>\n",
              "<table border=\"1\" class=\"dataframe\">\n",
              "  <thead>\n",
              "    <tr style=\"text-align: right;\">\n",
              "      <th></th>\n",
              "      <th>CustomerID</th>\n",
              "      <th>Gender</th>\n",
              "      <th>Age</th>\n",
              "      <th>Annual Income (k$)</th>\n",
              "      <th>Spending Score (1-100)</th>\n",
              "    </tr>\n",
              "  </thead>\n",
              "  <tbody>\n",
              "    <tr>\n",
              "      <th>0</th>\n",
              "      <td>1</td>\n",
              "      <td>Male</td>\n",
              "      <td>19</td>\n",
              "      <td>15</td>\n",
              "      <td>39</td>\n",
              "    </tr>\n",
              "    <tr>\n",
              "      <th>1</th>\n",
              "      <td>2</td>\n",
              "      <td>Male</td>\n",
              "      <td>21</td>\n",
              "      <td>15</td>\n",
              "      <td>81</td>\n",
              "    </tr>\n",
              "    <tr>\n",
              "      <th>2</th>\n",
              "      <td>3</td>\n",
              "      <td>Female</td>\n",
              "      <td>20</td>\n",
              "      <td>16</td>\n",
              "      <td>6</td>\n",
              "    </tr>\n",
              "    <tr>\n",
              "      <th>3</th>\n",
              "      <td>4</td>\n",
              "      <td>Female</td>\n",
              "      <td>23</td>\n",
              "      <td>16</td>\n",
              "      <td>77</td>\n",
              "    </tr>\n",
              "    <tr>\n",
              "      <th>4</th>\n",
              "      <td>5</td>\n",
              "      <td>Female</td>\n",
              "      <td>31</td>\n",
              "      <td>17</td>\n",
              "      <td>40</td>\n",
              "    </tr>\n",
              "  </tbody>\n",
              "</table>\n",
              "</div>"
            ],
            "text/plain": [
              "   CustomerID  Gender  Age  Annual Income (k$)  Spending Score (1-100)\n",
              "0           1    Male   19                  15                      39\n",
              "1           2    Male   21                  15                      81\n",
              "2           3  Female   20                  16                       6\n",
              "3           4  Female   23                  16                      77\n",
              "4           5  Female   31                  17                      40"
            ]
          },
          "metadata": {
            "tags": []
          },
          "execution_count": 4
        }
      ]
    },
    {
      "cell_type": "markdown",
      "metadata": {
        "id": "J1bhK8r_oiw7"
      },
      "source": [
        ""
      ]
    },
    {
      "cell_type": "code",
      "metadata": {
        "colab": {
          "base_uri": "https://localhost:8080/",
          "height": 612
        },
        "id": "0UFv-4b6nZVU",
        "outputId": "e108723f-e1b7-4f91-b3b5-ad5d6f6339f8"
      },
      "source": [
        "L=['Age','Annual Income (k$)','Spending Score (1-100)']\n",
        "for i in range(len(L)):\n",
        "  plt.figure(figsize=(12,7))\n",
        "  plt.subplot(3,1,i+1)\n",
        "  sns.boxplot(data[L[i]])\n"
      ],
      "execution_count": null,
      "outputs": [
        {
          "output_type": "stream",
          "text": [
            "/usr/local/lib/python3.7/dist-packages/seaborn/_decorators.py:43: FutureWarning: Pass the following variable as a keyword arg: x. From version 0.12, the only valid positional argument will be `data`, and passing other arguments without an explicit keyword will result in an error or misinterpretation.\n",
            "  FutureWarning\n",
            "/usr/local/lib/python3.7/dist-packages/seaborn/_decorators.py:43: FutureWarning: Pass the following variable as a keyword arg: x. From version 0.12, the only valid positional argument will be `data`, and passing other arguments without an explicit keyword will result in an error or misinterpretation.\n",
            "  FutureWarning\n",
            "/usr/local/lib/python3.7/dist-packages/seaborn/_decorators.py:43: FutureWarning: Pass the following variable as a keyword arg: x. From version 0.12, the only valid positional argument will be `data`, and passing other arguments without an explicit keyword will result in an error or misinterpretation.\n",
            "  FutureWarning\n"
          ],
          "name": "stderr"
        },
        {
          "output_type": "display_data",
          "data": {
            "image/png": "[encoded data removed]",
            "text/plain": [
              "<Figure size 864x504 with 1 Axes>"
            ]
          },
          "metadata": {
            "tags": [],
            "needs_background": "light"
          }
        },
        {
          "output_type": "display_data",
          "data": {
            "image/png": "[encoded data removed]",
            "text/plain": [
              "<Figure size 864x504 with 1 Axes>"
            ]
          },
          "metadata": {
            "tags": [],
            "needs_background": "light"
          }
        },
        {
          "output_type": "display_data",
          "data": {
            "image/png": "[encoded data removed]",
            "text/plain": [
              "<Figure size 864x504 with 1 Axes>"
            ]
          },
          "metadata": {
            "tags": [],
            "needs_background": "light"
          }
        }
      ]
    },
    {
      "cell_type": "code",
      "metadata": {
        "colab": {
          "base_uri": "https://localhost:8080/"
        },
        "id": "kt-ZlQq8pQR-",
        "outputId": "9da4c822-0b65-4dd2-9809-45a1e9ac572e"
      },
      "source": [
        "data.info()"
      ],
      "execution_count": null,
      "outputs": [
        {
          "output_type": "stream",
          "text": [
            "<class 'pandas.core.frame.DataFrame'>\n",
            "RangeIndex: 200 entries, 0 to 199\n",
            "Data columns (total 5 columns):\n",
            " #   Column                  Non-Null Count  Dtype \n",
            "---  ------                  --------------  ----- \n",
            " 0   CustomerID              200 non-null    int64 \n",
            " 1   Gender                  200 non-null    object\n",
            " 2   Age                     200 non-null    int64 \n",
            " 3   Annual Income (k$)      200 non-null    int64 \n",
            " 4   Spending Score (1-100)  200 non-null    int64 \n",
            "dtypes: int64(4), object(1)\n",
            "memory usage: 7.9+ KB\n"
          ],
          "name": "stdout"
        }
      ]
    },
    {
      "cell_type": "code",
      "metadata": {
        "colab": {
          "base_uri": "https://localhost:8080/",
          "height": 269
        },
        "id": "bua88-3K_wvD",
        "outputId": "959b9ea2-e508-43d9-8b85-0e22e2d65325"
      },
      "source": [
        "data.describe(percentiles=[0.95])"
      ],
      "execution_count": null,
      "outputs": [
        {
          "output_type": "execute_result",
          "data": {
            "text/html": [
              "<div>\n",
              "<style scoped>\n",
              "    .dataframe tbody tr th:only-of-type {\n",
              "        vertical-align: middle;\n",
              "    }\n",
              "\n",
              "    .dataframe tbody tr th {\n",
              "        vertical-align: top;\n",
              "    }\n",
              "\n",
              "    .dataframe thead th {\n",
              "        text-align: right;\n",
              "    }\n",
              "</style>\n",
              "<table border=\"1\" class=\"dataframe\">\n",
              "  <thead>\n",
              "    <tr style=\"text-align: right;\">\n",
              "      <th></th>\n",
              "      <th>CustomerID</th>\n",
              "      <th>Age</th>\n",
              "      <th>Annual Income (k$)</th>\n",
              "      <th>Spending Score (1-100)</th>\n",
              "    </tr>\n",
              "  </thead>\n",
              "  <tbody>\n",
              "    <tr>\n",
              "      <th>count</th>\n",
              "      <td>200.000000</td>\n",
              "      <td>200.000000</td>\n",
              "      <td>200.000000</td>\n",
              "      <td>200.000000</td>\n",
              "    </tr>\n",
              "    <tr>\n",
              "      <th>mean</th>\n",
              "      <td>100.500000</td>\n",
              "      <td>38.850000</td>\n",
              "      <td>60.560000</td>\n",
              "      <td>50.200000</td>\n",
              "    </tr>\n",
              "    <tr>\n",
              "      <th>std</th>\n",
              "      <td>57.879185</td>\n",
              "      <td>13.969007</td>\n",
              "      <td>26.264721</td>\n",
              "      <td>25.823522</td>\n",
              "    </tr>\n",
              "    <tr>\n",
              "      <th>min</th>\n",
              "      <td>1.000000</td>\n",
              "      <td>18.000000</td>\n",
              "      <td>15.000000</td>\n",
              "      <td>1.000000</td>\n",
              "    </tr>\n",
              "    <tr>\n",
              "      <th>50%</th>\n",
              "      <td>100.500000</td>\n",
              "      <td>36.000000</td>\n",
              "      <td>61.500000</td>\n",
              "      <td>50.000000</td>\n",
              "    </tr>\n",
              "    <tr>\n",
              "      <th>95%</th>\n",
              "      <td>190.050000</td>\n",
              "      <td>66.050000</td>\n",
              "      <td>103.000000</td>\n",
              "      <td>92.000000</td>\n",
              "    </tr>\n",
              "    <tr>\n",
              "      <th>max</th>\n",
              "      <td>200.000000</td>\n",
              "      <td>70.000000</td>\n",
              "      <td>137.000000</td>\n",
              "      <td>99.000000</td>\n",
              "    </tr>\n",
              "  </tbody>\n",
              "</table>\n",
              "</div>"
            ],
            "text/plain": [
              "       CustomerID         Age  Annual Income (k$)  Spending Score (1-100)\n",
              "count  200.000000  200.000000          200.000000              200.000000\n",
              "mean   100.500000   38.850000           60.560000               50.200000\n",
              "std     57.879185   13.969007           26.264721               25.823522\n",
              "min      1.000000   18.000000           15.000000                1.000000\n",
              "50%    100.500000   36.000000           61.500000               50.000000\n",
              "95%    190.050000   66.050000          103.000000               92.000000\n",
              "max    200.000000   70.000000          137.000000               99.000000"
            ]
          },
          "metadata": {
            "tags": []
          },
          "execution_count": 7
        }
      ]
    },
    {
      "cell_type": "code",
      "metadata": {
        "colab": {
          "base_uri": "https://localhost:8080/"
        },
        "id": "VIgYYyUHBYng",
        "outputId": "575ef8f7-1dfa-4c4c-83d2-77e6556a4e11"
      },
      "source": [
        "data.isnull().sum()"
      ],
      "execution_count": null,
      "outputs": [
        {
          "output_type": "execute_result",
          "data": {
            "text/plain": [
              "CustomerID                0\n",
              "Gender                    0\n",
              "Age                       0\n",
              "Annual Income (k$)        0\n",
              "Spending Score (1-100)    0\n",
              "dtype: int64"
            ]
          },
          "metadata": {
            "tags": []
          },
          "execution_count": 8
        }
      ]
    },
    {
      "cell_type": "code",
      "metadata": {
        "id": "efaYCaa1EuX1"
      },
      "source": [
        "q1=data['Annual Income (k$)'].quantile(0.25)"
      ],
      "execution_count": null,
      "outputs": []
    },
    {
      "cell_type": "code",
      "metadata": {
        "id": "6PxVTcjFGLvQ"
      },
      "source": [
        "q2=data['Annual Income (k$)'].quantile(0.75)"
      ],
      "execution_count": null,
      "outputs": []
    },
    {
      "cell_type": "code",
      "metadata": {
        "colab": {
          "base_uri": "https://localhost:8080/"
        },
        "id": "wpQkfJfaGh7U",
        "outputId": "8cc93732-e4de-4ff3-be68-a98cab4874ae"
      },
      "source": [
        "IQR=q2-q1\n",
        "IQR\n"
      ],
      "execution_count": null,
      "outputs": [
        {
          "output_type": "execute_result",
          "data": {
            "text/plain": [
              "36.5"
            ]
          },
          "metadata": {
            "tags": []
          },
          "execution_count": 11
        }
      ]
    },
    {
      "cell_type": "code",
      "metadata": {
        "id": "nhaKRxmjHXY0"
      },
      "source": [
        ""
      ],
      "execution_count": null,
      "outputs": []
    },
    {
      "cell_type": "code",
      "metadata": {
        "colab": {
          "base_uri": "https://localhost:8080/"
        },
        "id": "AjjDuFeWGlhC",
        "outputId": "0fa8b93c-a34a-4570-eba7-968687f11858"
      },
      "source": [
        "lower_limit=q1-1.5*IQR\n",
        "upper_limit=q2+1.5*IQR\n",
        "lower_limit"
      ],
      "execution_count": null,
      "outputs": [
        {
          "output_type": "execute_result",
          "data": {
            "text/plain": [
              "-13.25"
            ]
          },
          "metadata": {
            "tags": []
          },
          "execution_count": 12
        }
      ]
    },
    {
      "cell_type": "code",
      "metadata": {
        "id": "LVTUqHZSHcUj"
      },
      "source": [
        "lower_limit=min(data['Annual Income (k$)'])"
      ],
      "execution_count": null,
      "outputs": []
    },
    {
      "cell_type": "code",
      "metadata": {
        "id": "0LvYsOdeI0Zc"
      },
      "source": [
        "for i in data['Annual Income (k$)']:\n",
        "  if i>upper_limit:\n",
        "    i=upper_limit\n",
        "    "
      ],
      "execution_count": null,
      "outputs": []
    },
    {
      "cell_type": "code",
      "metadata": {
        "colab": {
          "base_uri": "https://localhost:8080/",
          "height": 351
        },
        "id": "1-_8ERw_JQHc",
        "outputId": "1d82022e-05e4-49c9-bd77-07d237b25bc6"
      },
      "source": [
        "sns.boxplot(data['Annual Income (k$)'])"
      ],
      "execution_count": null,
      "outputs": [
        {
          "output_type": "stream",
          "text": [
            "/usr/local/lib/python3.7/dist-packages/seaborn/_decorators.py:43: FutureWarning: Pass the following variable as a keyword arg: x. From version 0.12, the only valid positional argument will be `data`, and passing other arguments without an explicit keyword will result in an error or misinterpretation.\n",
            "  FutureWarning\n"
          ],
          "name": "stderr"
        },
        {
          "output_type": "execute_result",
          "data": {
            "text/plain": [
              "<matplotlib.axes._subplots.AxesSubplot at 0x7f165ddcbbd0>"
            ]
          },
          "metadata": {
            "tags": []
          },
          "execution_count": 15
        },
        {
          "output_type": "display_data",
          "data": {
            "image/png": "[encoded data removed]",
            "text/plain": [
              "<Figure size 432x288 with 1 Axes>"
            ]
          },
          "metadata": {
            "tags": [],
            "needs_background": "light"
          }
        }
      ]
    },
    {
      "cell_type": "code",
      "metadata": {
        "colab": {
          "base_uri": "https://localhost:8080/"
        },
        "id": "quNqZI3PJXYS",
        "outputId": "44ca0e99-b01a-48ec-b39c-521dcb3ba9c2"
      },
      "source": [
        "upper_limit"
      ],
      "execution_count": null,
      "outputs": [
        {
          "output_type": "execute_result",
          "data": {
            "text/plain": [
              "132.75"
            ]
          },
          "metadata": {
            "tags": []
          },
          "execution_count": 16
        }
      ]
    },
    {
      "cell_type": "code",
      "metadata": {
        "colab": {
          "base_uri": "https://localhost:8080/"
        },
        "id": "VNvrnbeHJlwS",
        "outputId": "4e5b99f8-f808-44ec-9996-5ff2f9077298"
      },
      "source": [
        "data['Annual Income (k$)'].describe()"
      ],
      "execution_count": null,
      "outputs": [
        {
          "output_type": "execute_result",
          "data": {
            "text/plain": [
              "count    200.000000\n",
              "mean      60.560000\n",
              "std       26.264721\n",
              "min       15.000000\n",
              "25%       41.500000\n",
              "50%       61.500000\n",
              "75%       78.000000\n",
              "max      137.000000\n",
              "Name: Annual Income (k$), dtype: float64"
            ]
          },
          "metadata": {
            "tags": []
          },
          "execution_count": 17
        }
      ]
    },
    {
      "cell_type": "code",
      "metadata": {
        "id": "xfwJ0j7lJ2mK"
      },
      "source": [
        "data['Annual Income (k$)']=np.where(data['Annual Income (k$)']>upper_limit,upper_limit,data['Annual Income (k$)'])   "
      ],
      "execution_count": null,
      "outputs": []
    },
    {
      "cell_type": "code",
      "metadata": {
        "colab": {
          "base_uri": "https://localhost:8080/"
        },
        "id": "2LQRqDe_J9MO",
        "outputId": "0f86037d-737d-49b0-a570-b61a5b83fec0"
      },
      "source": [
        "data['Annual Income (k$)'].describe()"
      ],
      "execution_count": null,
      "outputs": [
        {
          "output_type": "execute_result",
          "data": {
            "text/plain": [
              "count    200.000000\n",
              "mean      60.517500\n",
              "std       26.143551\n",
              "min       15.000000\n",
              "25%       41.500000\n",
              "50%       61.500000\n",
              "75%       78.000000\n",
              "max      132.750000\n",
              "Name: Annual Income (k$), dtype: float64"
            ]
          },
          "metadata": {
            "tags": []
          },
          "execution_count": 19
        }
      ]
    },
    {
      "cell_type": "code",
      "metadata": {
        "colab": {
          "base_uri": "https://localhost:8080/",
          "height": 206
        },
        "id": "tO77XcDnKe8h",
        "outputId": "fb5db4f6-6bfd-4d99-f2b7-5b5834291e39"
      },
      "source": [
        "data.head()"
      ],
      "execution_count": null,
      "outputs": [
        {
          "output_type": "execute_result",
          "data": {
            "text/html": [
              "<div>\n",
              "<style scoped>\n",
              "    .dataframe tbody tr th:only-of-type {\n",
              "        vertical-align: middle;\n",
              "    }\n",
              "\n",
              "    .dataframe tbody tr th {\n",
              "        vertical-align: top;\n",
              "    }\n",
              "\n",
              "    .dataframe thead th {\n",
              "        text-align: right;\n",
              "    }\n",
              "</style>\n",
              "<table border=\"1\" class=\"dataframe\">\n",
              "  <thead>\n",
              "    <tr style=\"text-align: right;\">\n",
              "      <th></th>\n",
              "      <th>CustomerID</th>\n",
              "      <th>Gender</th>\n",
              "      <th>Age</th>\n",
              "      <th>Annual Income (k$)</th>\n",
              "      <th>Spending Score (1-100)</th>\n",
              "    </tr>\n",
              "  </thead>\n",
              "  <tbody>\n",
              "    <tr>\n",
              "      <th>0</th>\n",
              "      <td>1</td>\n",
              "      <td>Male</td>\n",
              "      <td>19</td>\n",
              "      <td>15.0</td>\n",
              "      <td>39</td>\n",
              "    </tr>\n",
              "    <tr>\n",
              "      <th>1</th>\n",
              "      <td>2</td>\n",
              "      <td>Male</td>\n",
              "      <td>21</td>\n",
              "      <td>15.0</td>\n",
              "      <td>81</td>\n",
              "    </tr>\n",
              "    <tr>\n",
              "      <th>2</th>\n",
              "      <td>3</td>\n",
              "      <td>Female</td>\n",
              "      <td>20</td>\n",
              "      <td>16.0</td>\n",
              "      <td>6</td>\n",
              "    </tr>\n",
              "    <tr>\n",
              "      <th>3</th>\n",
              "      <td>4</td>\n",
              "      <td>Female</td>\n",
              "      <td>23</td>\n",
              "      <td>16.0</td>\n",
              "      <td>77</td>\n",
              "    </tr>\n",
              "    <tr>\n",
              "      <th>4</th>\n",
              "      <td>5</td>\n",
              "      <td>Female</td>\n",
              "      <td>31</td>\n",
              "      <td>17.0</td>\n",
              "      <td>40</td>\n",
              "    </tr>\n",
              "  </tbody>\n",
              "</table>\n",
              "</div>"
            ],
            "text/plain": [
              "   CustomerID  Gender  Age  Annual Income (k$)  Spending Score (1-100)\n",
              "0           1    Male   19                15.0                      39\n",
              "1           2    Male   21                15.0                      81\n",
              "2           3  Female   20                16.0                       6\n",
              "3           4  Female   23                16.0                      77\n",
              "4           5  Female   31                17.0                      40"
            ]
          },
          "metadata": {
            "tags": []
          },
          "execution_count": 20
        }
      ]
    },
    {
      "cell_type": "code",
      "metadata": {
        "colab": {
          "base_uri": "https://localhost:8080/",
          "height": 567
        },
        "id": "zJvvgzjHKiwa",
        "outputId": "675de324-4994-42d3-84c5-f68283beeda9"
      },
      "source": [
        "for i in range(len(L)):\n",
        "  plt.figure(figsize=(6,6))\n",
        "  plt.subplot(3,1,i+1)\n",
        "  sns.distplot(data[L[i]])"
      ],
      "execution_count": null,
      "outputs": [
        {
          "output_type": "stream",
          "text": [
            "/usr/local/lib/python3.7/dist-packages/seaborn/distributions.py:2557: FutureWarning: `distplot` is a deprecated function and will be removed in a future version. Please adapt your code to use either `displot` (a figure-level function with similar flexibility) or `histplot` (an axes-level function for histograms).\n",
            "  warnings.warn(msg, FutureWarning)\n",
            "/usr/local/lib/python3.7/dist-packages/seaborn/distributions.py:2557: FutureWarning: `distplot` is a deprecated function and will be removed in a future version. Please adapt your code to use either `displot` (a figure-level function with similar flexibility) or `histplot` (an axes-level function for histograms).\n",
            "  warnings.warn(msg, FutureWarning)\n",
            "/usr/local/lib/python3.7/dist-packages/seaborn/distributions.py:2557: FutureWarning: `distplot` is a deprecated function and will be removed in a future version. Please adapt your code to use either `displot` (a figure-level function with similar flexibility) or `histplot` (an axes-level function for histograms).\n",
            "  warnings.warn(msg, FutureWarning)\n"
          ],
          "name": "stderr"
        },
        {
          "output_type": "display_data",
          "data": {
            "image/png": "[encoded data removed]",
            "text/plain": [
              "<Figure size 432x432 with 1 Axes>"
            ]
          },
          "metadata": {
            "tags": [],
            "needs_background": "light"
          }
        },
        {
          "output_type": "display_data",
          "data": {
            "image/png": "[encoded data removed]",
            "text/plain": [
              "<Figure size 432x432 with 1 Axes>"
            ]
          },
          "metadata": {
            "tags": [],
            "needs_background": "light"
          }
        },
        {
          "output_type": "display_data",
          "data": {
            "image/png": "[encoded data removed]",
            "text/plain": [
              "<Figure size 432x432 with 1 Axes>"
            ]
          },
          "metadata": {
            "tags": [],
            "needs_background": "light"
          }
        }
      ]
    },
    {
      "cell_type": "code",
      "metadata": {
        "colab": {
          "base_uri": "https://localhost:8080/",
          "height": 297
        },
        "id": "H0B-44roLFvA",
        "outputId": "1388314c-8a90-42c4-fb40-d033599dfa6a"
      },
      "source": [
        "sns.histplot(x='Age',data=data)"
      ],
      "execution_count": null,
      "outputs": [
        {
          "output_type": "execute_result",
          "data": {
            "text/plain": [
              "<matplotlib.axes._subplots.AxesSubplot at 0x7f165a46f990>"
            ]
          },
          "metadata": {
            "tags": []
          },
          "execution_count": 22
        },
        {
          "output_type": "display_data",
          "data": {
            "image/png": "[encoded data removed]",
            "text/plain": [
              "<Figure size 432x288 with 1 Axes>"
            ]
          },
          "metadata": {
            "tags": [],
            "needs_background": "light"
          }
        }
      ]
    },
    {
      "cell_type": "code",
      "metadata": {
        "colab": {
          "base_uri": "https://localhost:8080/",
          "height": 309
        },
        "id": "IsbFEuXoNV4Q",
        "outputId": "6e1137fe-953d-454d-d536-19beceefda78"
      },
      "source": [
        "data['Gender'].value_counts().plot(kind='bar')"
      ],
      "execution_count": null,
      "outputs": [
        {
          "output_type": "execute_result",
          "data": {
            "text/plain": [
              "<matplotlib.axes._subplots.AxesSubplot at 0x7f165a4c4ed0>"
            ]
          },
          "metadata": {
            "tags": []
          },
          "execution_count": 23
        },
        {
          "output_type": "display_data",
          "data": {
            "image/png": "[encoded data removed]",
            "text/plain": [
              "<Figure size 432x288 with 1 Axes>"
            ]
          },
          "metadata": {
            "tags": [],
            "needs_background": "light"
          }
        }
      ]
    },
    {
      "cell_type": "code",
      "metadata": {
        "colab": {
          "base_uri": "https://localhost:8080/",
          "height": 743
        },
        "id": "_m2Rhc_URQk3",
        "outputId": "6b3bfc7d-79ae-4310-dec2-279de14b7d30"
      },
      "source": [
        "sns.pairplot(data,corner=True)"
      ],
      "execution_count": null,
      "outputs": [
        {
          "output_type": "execute_result",
          "data": {
            "text/plain": [
              "<seaborn.axisgrid.PairGrid at 0x7f165a435810>"
            ]
          },
          "metadata": {
            "tags": []
          },
          "execution_count": 24
        },
        {
          "output_type": "display_data",
          "data": {
            "image/png": "[encoded data removed]",
            "text/plain": [
              "<Figure size 720x720 with 14 Axes>"
            ]
          },
          "metadata": {
            "tags": [],
            "needs_background": "light"
          }
        }
      ]
    },
    {
      "cell_type": "code",
      "metadata": {
        "colab": {
          "base_uri": "https://localhost:8080/"
        },
        "id": "uGcSZfu5bJdF",
        "outputId": "42954d0c-7cee-4b79-832f-1b54718d0f90"
      },
      "source": [
        "data.iloc[:,3]"
      ],
      "execution_count": null,
      "outputs": [
        {
          "output_type": "execute_result",
          "data": {
            "text/plain": [
              "0       15.00\n",
              "1       15.00\n",
              "2       16.00\n",
              "3       16.00\n",
              "4       17.00\n",
              "        ...  \n",
              "195    120.00\n",
              "196    126.00\n",
              "197    126.00\n",
              "198    132.75\n",
              "199    132.75\n",
              "Name: Annual Income (k$), Length: 200, dtype: float64"
            ]
          },
          "metadata": {
            "tags": []
          },
          "execution_count": 25
        }
      ]
    },
    {
      "cell_type": "code",
      "metadata": {
        "colab": {
          "base_uri": "https://localhost:8080/"
        },
        "id": "UsA_NYH9nAVu",
        "outputId": "2d8b591d-b275-4ca5-92a9-573649a167a4"
      },
      "source": [
        "k=data.iloc[:,[3,4]].values\n",
        "k"
      ],
      "execution_count": null,
      "outputs": [
        {
          "output_type": "execute_result",
          "data": {
            "text/plain": [
              "array([[ 15.  ,  39.  ],\n",
              "       [ 15.  ,  81.  ],\n",
              "       [ 16.  ,   6.  ],\n",
              "       [ 16.  ,  77.  ],\n",
              "       [ 17.  ,  40.  ],\n",
              "       [ 17.  ,  76.  ],\n",
              "       [ 18.  ,   6.  ],\n",
              "       [ 18.  ,  94.  ],\n",
              "       [ 19.  ,   3.  ],\n",
              "       [ 19.  ,  72.  ],\n",
              "       [ 19.  ,  14.  ],\n",
              "       [ 19.  ,  99.  ],\n",
              "       [ 20.  ,  15.  ],\n",
              "       [ 20.  ,  77.  ],\n",
              "       [ 20.  ,  13.  ],\n",
              "       [ 20.  ,  79.  ],\n",
              "       [ 21.  ,  35.  ],\n",
              "       [ 21.  ,  66.  ],\n",
              "       [ 23.  ,  29.  ],\n",
              "       [ 23.  ,  98.  ],\n",
              "       [ 24.  ,  35.  ],\n",
              "       [ 24.  ,  73.  ],\n",
              "       [ 25.  ,   5.  ],\n",
              "       [ 25.  ,  73.  ],\n",
              "       [ 28.  ,  14.  ],\n",
              "       [ 28.  ,  82.  ],\n",
              "       [ 28.  ,  32.  ],\n",
              "       [ 28.  ,  61.  ],\n",
              "       [ 29.  ,  31.  ],\n",
              "       [ 29.  ,  87.  ],\n",
              "       [ 30.  ,   4.  ],\n",
              "       [ 30.  ,  73.  ],\n",
              "       [ 33.  ,   4.  ],\n",
              "       [ 33.  ,  92.  ],\n",
              "       [ 33.  ,  14.  ],\n",
              "       [ 33.  ,  81.  ],\n",
              "       [ 34.  ,  17.  ],\n",
              "       [ 34.  ,  73.  ],\n",
              "       [ 37.  ,  26.  ],\n",
              "       [ 37.  ,  75.  ],\n",
              "       [ 38.  ,  35.  ],\n",
              "       [ 38.  ,  92.  ],\n",
              "       [ 39.  ,  36.  ],\n",
              "       [ 39.  ,  61.  ],\n",
              "       [ 39.  ,  28.  ],\n",
              "       [ 39.  ,  65.  ],\n",
              "       [ 40.  ,  55.  ],\n",
              "       [ 40.  ,  47.  ],\n",
              "       [ 40.  ,  42.  ],\n",
              "       [ 40.  ,  42.  ],\n",
              "       [ 42.  ,  52.  ],\n",
              "       [ 42.  ,  60.  ],\n",
              "       [ 43.  ,  54.  ],\n",
              "       [ 43.  ,  60.  ],\n",
              "       [ 43.  ,  45.  ],\n",
              "       [ 43.  ,  41.  ],\n",
              "       [ 44.  ,  50.  ],\n",
              "       [ 44.  ,  46.  ],\n",
              "       [ 46.  ,  51.  ],\n",
              "       [ 46.  ,  46.  ],\n",
              "       [ 46.  ,  56.  ],\n",
              "       [ 46.  ,  55.  ],\n",
              "       [ 47.  ,  52.  ],\n",
              "       [ 47.  ,  59.  ],\n",
              "       [ 48.  ,  51.  ],\n",
              "       [ 48.  ,  59.  ],\n",
              "       [ 48.  ,  50.  ],\n",
              "       [ 48.  ,  48.  ],\n",
              "       [ 48.  ,  59.  ],\n",
              "       [ 48.  ,  47.  ],\n",
              "       [ 49.  ,  55.  ],\n",
              "       [ 49.  ,  42.  ],\n",
              "       [ 50.  ,  49.  ],\n",
              "       [ 50.  ,  56.  ],\n",
              "       [ 54.  ,  47.  ],\n",
              "       [ 54.  ,  54.  ],\n",
              "       [ 54.  ,  53.  ],\n",
              "       [ 54.  ,  48.  ],\n",
              "       [ 54.  ,  52.  ],\n",
              "       [ 54.  ,  42.  ],\n",
              "       [ 54.  ,  51.  ],\n",
              "       [ 54.  ,  55.  ],\n",
              "       [ 54.  ,  41.  ],\n",
              "       [ 54.  ,  44.  ],\n",
              "       [ 54.  ,  57.  ],\n",
              "       [ 54.  ,  46.  ],\n",
              "       [ 57.  ,  58.  ],\n",
              "       [ 57.  ,  55.  ],\n",
              "       [ 58.  ,  60.  ],\n",
              "       [ 58.  ,  46.  ],\n",
              "       [ 59.  ,  55.  ],\n",
              "       [ 59.  ,  41.  ],\n",
              "       [ 60.  ,  49.  ],\n",
              "       [ 60.  ,  40.  ],\n",
              "       [ 60.  ,  42.  ],\n",
              "       [ 60.  ,  52.  ],\n",
              "       [ 60.  ,  47.  ],\n",
              "       [ 60.  ,  50.  ],\n",
              "       [ 61.  ,  42.  ],\n",
              "       [ 61.  ,  49.  ],\n",
              "       [ 62.  ,  41.  ],\n",
              "       [ 62.  ,  48.  ],\n",
              "       [ 62.  ,  59.  ],\n",
              "       [ 62.  ,  55.  ],\n",
              "       [ 62.  ,  56.  ],\n",
              "       [ 62.  ,  42.  ],\n",
              "       [ 63.  ,  50.  ],\n",
              "       [ 63.  ,  46.  ],\n",
              "       [ 63.  ,  43.  ],\n",
              "       [ 63.  ,  48.  ],\n",
              "       [ 63.  ,  52.  ],\n",
              "       [ 63.  ,  54.  ],\n",
              "       [ 64.  ,  42.  ],\n",
              "       [ 64.  ,  46.  ],\n",
              "       [ 65.  ,  48.  ],\n",
              "       [ 65.  ,  50.  ],\n",
              "       [ 65.  ,  43.  ],\n",
              "       [ 65.  ,  59.  ],\n",
              "       [ 67.  ,  43.  ],\n",
              "       [ 67.  ,  57.  ],\n",
              "       [ 67.  ,  56.  ],\n",
              "       [ 67.  ,  40.  ],\n",
              "       [ 69.  ,  58.  ],\n",
              "       [ 69.  ,  91.  ],\n",
              "       [ 70.  ,  29.  ],\n",
              "       [ 70.  ,  77.  ],\n",
              "       [ 71.  ,  35.  ],\n",
              "       [ 71.  ,  95.  ],\n",
              "       [ 71.  ,  11.  ],\n",
              "       [ 71.  ,  75.  ],\n",
              "       [ 71.  ,   9.  ],\n",
              "       [ 71.  ,  75.  ],\n",
              "       [ 72.  ,  34.  ],\n",
              "       [ 72.  ,  71.  ],\n",
              "       [ 73.  ,   5.  ],\n",
              "       [ 73.  ,  88.  ],\n",
              "       [ 73.  ,   7.  ],\n",
              "       [ 73.  ,  73.  ],\n",
              "       [ 74.  ,  10.  ],\n",
              "       [ 74.  ,  72.  ],\n",
              "       [ 75.  ,   5.  ],\n",
              "       [ 75.  ,  93.  ],\n",
              "       [ 76.  ,  40.  ],\n",
              "       [ 76.  ,  87.  ],\n",
              "       [ 77.  ,  12.  ],\n",
              "       [ 77.  ,  97.  ],\n",
              "       [ 77.  ,  36.  ],\n",
              "       [ 77.  ,  74.  ],\n",
              "       [ 78.  ,  22.  ],\n",
              "       [ 78.  ,  90.  ],\n",
              "       [ 78.  ,  17.  ],\n",
              "       [ 78.  ,  88.  ],\n",
              "       [ 78.  ,  20.  ],\n",
              "       [ 78.  ,  76.  ],\n",
              "       [ 78.  ,  16.  ],\n",
              "       [ 78.  ,  89.  ],\n",
              "       [ 78.  ,   1.  ],\n",
              "       [ 78.  ,  78.  ],\n",
              "       [ 78.  ,   1.  ],\n",
              "       [ 78.  ,  73.  ],\n",
              "       [ 79.  ,  35.  ],\n",
              "       [ 79.  ,  83.  ],\n",
              "       [ 81.  ,   5.  ],\n",
              "       [ 81.  ,  93.  ],\n",
              "       [ 85.  ,  26.  ],\n",
              "       [ 85.  ,  75.  ],\n",
              "       [ 86.  ,  20.  ],\n",
              "       [ 86.  ,  95.  ],\n",
              "       [ 87.  ,  27.  ],\n",
              "       [ 87.  ,  63.  ],\n",
              "       [ 87.  ,  13.  ],\n",
              "       [ 87.  ,  75.  ],\n",
              "       [ 87.  ,  10.  ],\n",
              "       [ 87.  ,  92.  ],\n",
              "       [ 88.  ,  13.  ],\n",
              "       [ 88.  ,  86.  ],\n",
              "       [ 88.  ,  15.  ],\n",
              "       [ 88.  ,  69.  ],\n",
              "       [ 93.  ,  14.  ],\n",
              "       [ 93.  ,  90.  ],\n",
              "       [ 97.  ,  32.  ],\n",
              "       [ 97.  ,  86.  ],\n",
              "       [ 98.  ,  15.  ],\n",
              "       [ 98.  ,  88.  ],\n",
              "       [ 99.  ,  39.  ],\n",
              "       [ 99.  ,  97.  ],\n",
              "       [101.  ,  24.  ],\n",
              "       [101.  ,  68.  ],\n",
              "       [103.  ,  17.  ],\n",
              "       [103.  ,  85.  ],\n",
              "       [103.  ,  23.  ],\n",
              "       [103.  ,  69.  ],\n",
              "       [113.  ,   8.  ],\n",
              "       [113.  ,  91.  ],\n",
              "       [120.  ,  16.  ],\n",
              "       [120.  ,  79.  ],\n",
              "       [126.  ,  28.  ],\n",
              "       [126.  ,  74.  ],\n",
              "       [132.75,  18.  ],\n",
              "       [132.75,  83.  ]])"
            ]
          },
          "metadata": {
            "tags": []
          },
          "execution_count": 26
        }
      ]
    },
    {
      "cell_type": "code",
      "metadata": {
        "id": "tDgdXUf6poYW"
      },
      "source": [
        "from sklearn.cluster import KMeans"
      ],
      "execution_count": null,
      "outputs": []
    },
    {
      "cell_type": "code",
      "metadata": {
        "id": "zWbTh8aLqr6l"
      },
      "source": [
        "inertia=[]\n",
        "for i in range(1,11):\n",
        "  Kmeans=KMeans(n_clusters=i,random_state=42,init='k-means++')\n",
        "  Kmeans.fit(k)\n",
        "  inertia.append(Kmeans.inertia_)"
      ],
      "execution_count": null,
      "outputs": []
    },
    {
      "cell_type": "code",
      "metadata": {
        "colab": {
          "base_uri": "https://localhost:8080/",
          "height": 283
        },
        "id": "PugMOEn8rtWM",
        "outputId": "d99888af-dbdc-4785-a777-f34c573363fc"
      },
      "source": [
        "plt.plot(range(1,11),inertia)"
      ],
      "execution_count": null,
      "outputs": [
        {
          "output_type": "execute_result",
          "data": {
            "text/plain": [
              "[<matplotlib.lines.Line2D at 0x7f164a065f90>]"
            ]
          },
          "metadata": {
            "tags": []
          },
          "execution_count": 29
        },
        {
          "output_type": "display_data",
          "data": {
            "image/png": "[encoded data removed]",
            "text/plain": [
              "<Figure size 432x288 with 1 Axes>"
            ]
          },
          "metadata": {
            "tags": [],
            "needs_background": "light"
          }
        }
      ]
    },
    {
      "cell_type": "code",
      "metadata": {
        "colab": {
          "base_uri": "https://localhost:8080/"
        },
        "id": "UGOQ4l5XsLlL",
        "outputId": "d896e786-3918-477f-da53-446a05979374"
      },
      "source": [
        "inertia"
      ],
      "execution_count": null,
      "outputs": [
        {
          "output_type": "execute_result",
          "data": {
            "text/plain": [
              "[268717.56375000003,\n",
              " 180456.9539366883,\n",
              " 105529.6365152151,\n",
              " 72861.05249259225,\n",
              " 43639.878158556414,\n",
              " 36640.0775425058,\n",
              " 29829.06647116095,\n",
              " 24964.620758679725,\n",
              " 21405.83744167654,\n",
              " 19233.09769600554]"
            ]
          },
          "metadata": {
            "tags": []
          },
          "execution_count": 30
        }
      ]
    },
    {
      "cell_type": "code",
      "metadata": {
        "colab": {
          "base_uri": "https://localhost:8080/"
        },
        "id": "8VocEAentpbU",
        "outputId": "019e55d9-b770-48a8-ee21-741b718ea226"
      },
      "source": [
        "data.info()"
      ],
      "execution_count": null,
      "outputs": [
        {
          "output_type": "stream",
          "text": [
            "<class 'pandas.core.frame.DataFrame'>\n",
            "RangeIndex: 200 entries, 0 to 199\n",
            "Data columns (total 5 columns):\n",
            " #   Column                  Non-Null Count  Dtype  \n",
            "---  ------                  --------------  -----  \n",
            " 0   CustomerID              200 non-null    int64  \n",
            " 1   Gender                  200 non-null    object \n",
            " 2   Age                     200 non-null    int64  \n",
            " 3   Annual Income (k$)      200 non-null    float64\n",
            " 4   Spending Score (1-100)  200 non-null    int64  \n",
            "dtypes: float64(1), int64(3), object(1)\n",
            "memory usage: 7.9+ KB\n"
          ],
          "name": "stdout"
        }
      ]
    },
    {
      "cell_type": "code",
      "metadata": {
        "colab": {
          "base_uri": "https://localhost:8080/"
        },
        "id": "tpkIrPZgujWt",
        "outputId": "99a7ca1d-0c01-4d3a-ff58-83d0a846dba0"
      },
      "source": [
        "kmeans=KMeans(n_clusters=4,init='k-means++',random_state=42)\n",
        "kmeans.fit(k)\n",
        "Y=kmeans.predict(k)\n",
        "Y"
      ],
      "execution_count": null,
      "outputs": [
        {
          "output_type": "execute_result",
          "data": {
            "text/plain": [
              "array([2, 1, 2, 1, 2, 1, 2, 1, 2, 1, 2, 1, 2, 1, 2, 1, 2, 1, 2, 1, 2, 1,\n",
              "       2, 1, 2, 1, 2, 1, 2, 1, 2, 1, 2, 1, 2, 1, 2, 1, 2, 1, 2, 1, 2, 1,\n",
              "       2, 1, 1, 1, 1, 1, 1, 1, 1, 1, 1, 1, 1, 1, 1, 1, 1, 1, 1, 1, 1, 1,\n",
              "       1, 1, 1, 1, 1, 1, 1, 1, 1, 1, 1, 1, 1, 1, 1, 1, 1, 1, 1, 1, 1, 1,\n",
              "       1, 1, 1, 1, 1, 1, 1, 1, 1, 1, 1, 1, 1, 1, 1, 1, 1, 1, 1, 1, 1, 1,\n",
              "       1, 1, 1, 1, 1, 1, 1, 1, 1, 1, 1, 1, 1, 3, 0, 3, 0, 3, 0, 3, 0, 3,\n",
              "       0, 3, 0, 3, 0, 3, 0, 3, 0, 3, 0, 3, 0, 3, 0, 3, 0, 3, 0, 3, 0, 3,\n",
              "       0, 3, 0, 3, 0, 3, 0, 3, 0, 3, 0, 3, 0, 3, 0, 3, 0, 3, 0, 3, 0, 3,\n",
              "       0, 3, 0, 3, 0, 3, 0, 3, 0, 3, 0, 3, 0, 3, 0, 3, 0, 3, 0, 3, 0, 3,\n",
              "       0, 3], dtype=int32)"
            ]
          },
          "metadata": {
            "tags": []
          },
          "execution_count": 32
        }
      ]
    },
    {
      "cell_type": "code",
      "metadata": {
        "colab": {
          "base_uri": "https://localhost:8080/"
        },
        "id": "NWe5pScdvp76",
        "outputId": "d7117f75-01f3-4229-efe6-0317693a7d00"
      },
      "source": [
        "k[Y==0]"
      ],
      "execution_count": null,
      "outputs": [
        {
          "output_type": "execute_result",
          "data": {
            "text/plain": [
              "array([[ 70.  ,  29.  ],\n",
              "       [ 71.  ,  35.  ],\n",
              "       [ 71.  ,  11.  ],\n",
              "       [ 71.  ,   9.  ],\n",
              "       [ 72.  ,  34.  ],\n",
              "       [ 73.  ,   5.  ],\n",
              "       [ 73.  ,   7.  ],\n",
              "       [ 74.  ,  10.  ],\n",
              "       [ 75.  ,   5.  ],\n",
              "       [ 76.  ,  40.  ],\n",
              "       [ 77.  ,  12.  ],\n",
              "       [ 77.  ,  36.  ],\n",
              "       [ 78.  ,  22.  ],\n",
              "       [ 78.  ,  17.  ],\n",
              "       [ 78.  ,  20.  ],\n",
              "       [ 78.  ,  16.  ],\n",
              "       [ 78.  ,   1.  ],\n",
              "       [ 78.  ,   1.  ],\n",
              "       [ 79.  ,  35.  ],\n",
              "       [ 81.  ,   5.  ],\n",
              "       [ 85.  ,  26.  ],\n",
              "       [ 86.  ,  20.  ],\n",
              "       [ 87.  ,  27.  ],\n",
              "       [ 87.  ,  13.  ],\n",
              "       [ 87.  ,  10.  ],\n",
              "       [ 88.  ,  13.  ],\n",
              "       [ 88.  ,  15.  ],\n",
              "       [ 93.  ,  14.  ],\n",
              "       [ 97.  ,  32.  ],\n",
              "       [ 98.  ,  15.  ],\n",
              "       [ 99.  ,  39.  ],\n",
              "       [101.  ,  24.  ],\n",
              "       [103.  ,  17.  ],\n",
              "       [103.  ,  23.  ],\n",
              "       [113.  ,   8.  ],\n",
              "       [120.  ,  16.  ],\n",
              "       [126.  ,  28.  ],\n",
              "       [132.75,  18.  ]])"
            ]
          },
          "metadata": {
            "tags": []
          },
          "execution_count": 33
        }
      ]
    },
    {
      "cell_type": "code",
      "metadata": {
        "colab": {
          "base_uri": "https://localhost:8080/",
          "height": 700
        },
        "id": "MfrPDRbrv9_R",
        "outputId": "7fb7b624-c67c-4729-dc63-575780702dd5"
      },
      "source": [
        "plt.figure(figsize=(12,12))\n",
        "\n",
        "plt.scatter(k[Y==0,0],k[Y==0,1],s=30,c='red',label='Cluster1')\n",
        "plt.scatter(k[Y==1,0],k[Y==1,1],s=30,c='blue',label='Cluster2')\n",
        "plt.scatter(k[Y==2,0],k[Y==2,1],s=30,c='green',label='Cluster3')\n",
        "plt.scatter(k[Y==3,0],k[Y==3,1],s=30,c='yellow',label='Cluster4')\n",
        "\n",
        "for i in range(4):\n",
        "  plt.scatter(np.mean(k[Y==i,0]),np.mean(k[Y==i,1]),s=100)"
      ],
      "execution_count": null,
      "outputs": [
        {
          "output_type": "display_data",
          "data": {
            "image/png": "[encoded data removed]",
            "text/plain": [
              "<Figure size 864x864 with 1 Axes>"
            ]
          },
          "metadata": {
            "tags": [],
            "needs_background": "light"
          }
        }
      ]
    },
    {
      "cell_type": "code",
      "metadata": {
        "colab": {
          "base_uri": "https://localhost:8080/"
        },
        "id": "MdxXGuKX5SO9",
        "outputId": "e3e020dd-0e33-4d0f-ec6d-f19ca8f9565d"
      },
      "source": [
        "kmeans_5=KMeans(n_clusters=5,init='k-means++',random_state=42)\n",
        "kmeans_5.fit(k)\n",
        "Y=kmeans_5.predict(k)\n",
        "Y"
      ],
      "execution_count": null,
      "outputs": [
        {
          "output_type": "execute_result",
          "data": {
            "text/plain": [
              "array([3, 0, 3, 0, 3, 0, 3, 0, 3, 0, 3, 0, 3, 0, 3, 0, 3, 0, 3, 0, 3, 0,\n",
              "       3, 0, 3, 0, 3, 0, 3, 0, 3, 0, 3, 0, 3, 0, 3, 0, 3, 0, 3, 0, 3, 1,\n",
              "       3, 0, 1, 1, 1, 1, 1, 1, 1, 1, 1, 1, 1, 1, 1, 1, 1, 1, 1, 1, 1, 1,\n",
              "       1, 1, 1, 1, 1, 1, 1, 1, 1, 1, 1, 1, 1, 1, 1, 1, 1, 1, 1, 1, 1, 1,\n",
              "       1, 1, 1, 1, 1, 1, 1, 1, 1, 1, 1, 1, 1, 1, 1, 1, 1, 1, 1, 1, 1, 1,\n",
              "       1, 1, 1, 1, 1, 1, 1, 1, 1, 1, 1, 1, 1, 4, 2, 4, 1, 4, 2, 4, 2, 4,\n",
              "       1, 4, 2, 4, 2, 4, 2, 4, 2, 4, 1, 4, 2, 4, 2, 4, 2, 4, 2, 4, 2, 4,\n",
              "       2, 4, 2, 4, 2, 4, 2, 4, 2, 4, 2, 4, 2, 4, 2, 4, 2, 4, 2, 4, 2, 4,\n",
              "       2, 4, 2, 4, 2, 4, 2, 4, 2, 4, 2, 4, 2, 4, 2, 4, 2, 4, 2, 4, 2, 4,\n",
              "       2, 4], dtype=int32)"
            ]
          },
          "metadata": {
            "tags": []
          },
          "execution_count": 46
        }
      ]
    },
    {
      "cell_type": "code",
      "metadata": {
        "colab": {
          "base_uri": "https://localhost:8080/",
          "height": 700
        },
        "id": "5XNI4WQgQDn-",
        "outputId": "790f9a77-2a19-4ea4-f369-fea2fe7b2f6b"
      },
      "source": [
        "plt.figure(figsize=(12,12))\n",
        "\n",
        "plt.scatter(k[Y==0,0],k[Y==0,1],s=30,c='red',label='Cluster1')\n",
        "plt.scatter(k[Y==1,0],k[Y==1,1],s=30,c='blue',label='Cluster2')\n",
        "plt.scatter(k[Y==2,0],k[Y==2,1],s=30,c='green',label='Cluster3')\n",
        "plt.scatter(k[Y==3,0],k[Y==3,1],s=30,c='yellow',label='Cluster4')\n",
        "plt.scatter(k[Y==4,0],k[Y==4,1],s=30,c='yellow',label='Cluster5')\n",
        "for i in range(5):\n",
        "  plt.scatter(np.mean(k[Y==i,0]),np.mean(k[Y==i,1]),s=100)"
      ],
      "execution_count": null,
      "outputs": [
        {
          "output_type": "display_data",
          "data": {
            "image/png": "[encoded data removed]",
            "text/plain": [
              "<Figure size 864x864 with 1 Axes>"
            ]
          },
          "metadata": {
            "tags": [],
            "needs_background": "light"
          }
        }
      ]
    },
    {
      "cell_type": "code",
      "metadata": {
        "id": "PDKYYwNkQeSi"
      },
      "source": [
        ""
      ],
      "execution_count": null,
      "outputs": []
    },
    {
      "cell_type": "code",
      "metadata": {
        "id": "D_UYEQw8VU-s"
      },
      "source": [
        "from google.colab import drive\n",
        "drive.mount('/content/drive')"
      ],
      "execution_count": null,
      "outputs": []
    }
  ]
}